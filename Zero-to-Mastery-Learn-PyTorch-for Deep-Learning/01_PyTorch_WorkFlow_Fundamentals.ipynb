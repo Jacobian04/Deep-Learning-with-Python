{
  "nbformat": 4,
  "nbformat_minor": 0,
  "metadata": {
    "colab": {
      "provenance": [],
      "authorship_tag": "ABX9TyP7acPmfkgnMb5srXb1JDCi",
      "include_colab_link": true
    },
    "kernelspec": {
      "name": "python3",
      "display_name": "Python 3"
    },
    "language_info": {
      "name": "python"
    }
  },
  "cells": [
    {
      "cell_type": "markdown",
      "metadata": {
        "id": "view-in-github",
        "colab_type": "text"
      },
      "source": [
        "<a href=\"https://colab.research.google.com/github/Jacobian04/Deep-Learning-with-Python/blob/main/Zero-to-Mastery-Learn-PyTorch-for%20Deep-Learning/01_PyTorch_WorkFlow_Fundamentals.ipynb\" target=\"_parent\"><img src=\"https://colab.research.google.com/assets/colab-badge.svg\" alt=\"Open In Colab\"/></a>"
      ]
    },
    {
      "cell_type": "markdown",
      "source": [
        "# 01. PyTorch WorkFlow Fundamentals\n",
        "\n",
        "The essence of machine learninf and deep learning is to take some data from the past, build an algorithm (like a neural network) to discover patterns in it and use the discoverd patterns to predict the future.\n",
        "\n",
        "\n",
        "## What these cource are going to cover\n",
        "\n",
        "What we're going to cover\n",
        "In this module we're going to cover a standard PyTorch workflow.\n",
        "\n",
        "![Image](https://raw.githubusercontent.com/mrdbourke/pytorch-deep-learning/main/images/01_a_pytorch_workflow.png)\n",
        "\n",
        "For now, we'll use this workflow to predict a simple straight line but the workflow steps can be repeated and changed depending on the problem you're wotking on.\n",
        "\n",
        "Specifically, we're going to cover:\n",
        "\n",
        "| Topic | Contents |\n",
        "|-------|----------|\n",
        "| **1. Getting data ready** | Data can be almost anything but to get started we're going to create a simple straight line |\n",
        "| **2. Building a model** | Here we'll create a model to learn patterns in the data, we'll also choose a loss function, optimizer and build a training loop. |\n",
        "| **3. Fitting the model to data (training)** | We've got data and a model, now let's let the model (try to) find patterns in the (training) data. |\n",
        "| **4. Making predictions and evaluating a model (inference)** | Our model's found patterns in the data, let's compare its findings to the actual (testing) data. |\n",
        "| **5. Saving and loading a model** | You may want to use your model elsewhere, or come back to it later, here we'll cover that. |\n",
        "| **6. Putting it all together** | Let's take all of the above and combine it. |\n"
      ],
      "metadata": {
        "id": "p15HiIh1JGiC"
      }
    },
    {
      "cell_type": "markdown",
      "source": [
        "What we need in this section:\n",
        "  1. `torch`\n",
        "  2. `torch.nn` (`nn` stands for neural network and this package contains the building blocks ofr creating neural networks in PyTorch) and `matplotlib`."
      ],
      "metadata": {
        "id": "F71ya3F-LTaC"
      }
    },
    {
      "cell_type": "code",
      "execution_count": 2,
      "metadata": {
        "colab": {
          "base_uri": "https://localhost:8080/"
        },
        "id": "9-ypyFZUIzXH",
        "outputId": "97155744-5ff7-48f0-e02f-571938dcbf0f"
      },
      "outputs": [
        {
          "output_type": "stream",
          "name": "stdout",
          "text": [
            "2.0.1+cu118\n"
          ]
        }
      ],
      "source": [
        "import torch\n",
        "\n",
        "# nn contains all of PyTorch's building blocks for neural networks\n",
        "from torch import nn \n",
        "import matplotlib.pyplot as plt\n",
        "\n",
        "%matplotlib inline\n",
        "\n",
        "print(torch.__version__)"
      ]
    },
    {
      "cell_type": "markdown",
      "source": [
        "## 1. Data (preparing and loading)"
      ],
      "metadata": {
        "id": "Sz1U3IOwMOI4"
      }
    },
    {
      "cell_type": "code",
      "source": [],
      "metadata": {
        "id": "pBu0k-W2KiGy"
      },
      "execution_count": null,
      "outputs": []
    }
  ]
}
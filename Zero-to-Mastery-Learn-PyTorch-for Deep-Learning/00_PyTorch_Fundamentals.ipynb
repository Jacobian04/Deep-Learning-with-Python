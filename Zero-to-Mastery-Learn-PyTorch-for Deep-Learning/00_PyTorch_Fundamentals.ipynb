{
  "nbformat": 4,
  "nbformat_minor": 0,
  "metadata": {
    "colab": {
      "provenance": [],
      "authorship_tag": "ABX9TyMBD0sgV/lbxkxovrdto/Yj",
      "include_colab_link": true
    },
    "kernelspec": {
      "name": "python3",
      "display_name": "Python 3"
    },
    "language_info": {
      "name": "python"
    }
  },
  "cells": [
    {
      "cell_type": "markdown",
      "metadata": {
        "id": "view-in-github",
        "colab_type": "text"
      },
      "source": [
        "<a href=\"https://colab.research.google.com/github/Jacobian04/Deep-Learning-with-Python/blob/main/Zero-to-Mastery-Learn-PyTorch-for%20Deep-Learning/00_PyTorch_Fundamentals.ipynb\" target=\"_parent\"><img src=\"https://colab.research.google.com/assets/colab-badge.svg\" alt=\"Open In Colab\"/></a>"
      ]
    },
    {
      "cell_type": "markdown",
      "source": [
        "# 00. PyTorch Fundamentals"
      ],
      "metadata": {
        "id": "T5B2XsoX9zQ2"
      }
    },
    {
      "cell_type": "markdown",
      "source": [
        "|Topic|Contents|\n",
        "|-|-|\n",
        "|Introduction|Tensor are the basic building block of all of machine learning and deep learning.|\n"
      ],
      "metadata": {
        "id": "AdaeW4FZ9-GJ"
      }
    },
    {
      "cell_type": "code",
      "execution_count": 1,
      "metadata": {
        "colab": {
          "base_uri": "https://localhost:8080/"
        },
        "id": "kosW-EeI8YW1",
        "outputId": "180ae1cc-c457-4be1-9c55-e0f78d8c8618"
      },
      "outputs": [
        {
          "output_type": "stream",
          "name": "stdout",
          "text": [
            "2.0.1+cu118\n"
          ]
        }
      ],
      "source": [
        "import torch\n",
        "print(torch.__version__)"
      ]
    },
    {
      "cell_type": "markdown",
      "source": [
        "## Introduction to tensors\n",
        "\n",
        "Tensors are the fuddamental building block of machine learning.\n",
        "\n",
        "Their job is to represent data in a numerical way.\n",
        "\n",
        "Image rensor shape: `[3, 224, 244]` which mean `[colour_channels, height, width]`, as in the image has `3` colour channels (redm green, blue), a height of 224 pixels and a width of 224 pixels.\n",
        "\n",
        "![Image](https://raw.githubusercontent.com/mrdbourke/pytorch-deep-learning/main/images/00-tensor-shape-example-of-image.png)"
      ],
      "metadata": {
        "id": "bQ7s8RUf-fh7"
      }
    },
    {
      "cell_type": "markdown",
      "source": [
        "How to create a `tensor`?"
      ],
      "metadata": {
        "id": "ckHapH0B_pzn"
      }
    },
    {
      "cell_type": "code",
      "source": [
        "# Tensor\n",
        "TENSOR = torch.tensor([[[1, 2, 3],\n",
        "                        [3, 6, 9],\n",
        "                        [2, 4, 5]]])\n",
        "\n",
        "TENSOR"
      ],
      "metadata": {
        "colab": {
          "base_uri": "https://localhost:8080/"
        },
        "id": "0Kg-H40X-Ufm",
        "outputId": "29caf57d-ae79-49e4-811d-10916e74ddbd"
      },
      "execution_count": 2,
      "outputs": [
        {
          "output_type": "execute_result",
          "data": {
            "text/plain": [
              "tensor([[[1, 2, 3],\n",
              "         [3, 6, 9],\n",
              "         [2, 4, 5]]])"
            ]
          },
          "metadata": {},
          "execution_count": 2
        }
      ]
    },
    {
      "cell_type": "code",
      "source": [
        "# Check number of dimensions for TENSOR\n",
        "TENSOR.ndim"
      ],
      "metadata": {
        "colab": {
          "base_uri": "https://localhost:8080/"
        },
        "id": "rqKqWT3N_6BB",
        "outputId": "c6a30aad-c85f-4fd3-8dae-f76e27165d54"
      },
      "execution_count": 3,
      "outputs": [
        {
          "output_type": "execute_result",
          "data": {
            "text/plain": [
              "3"
            ]
          },
          "metadata": {},
          "execution_count": 3
        }
      ]
    },
    {
      "cell_type": "code",
      "source": [
        "# Check shape of TENSOR\n",
        "TENSOR.shape"
      ],
      "metadata": {
        "colab": {
          "base_uri": "https://localhost:8080/"
        },
        "id": "siXY7nZnAFRR",
        "outputId": "82181b57-707f-45c3-c381-d197fbcd7dd5"
      },
      "execution_count": 4,
      "outputs": [
        {
          "output_type": "execute_result",
          "data": {
            "text/plain": [
              "torch.Size([1, 3, 3])"
            ]
          },
          "metadata": {},
          "execution_count": 4
        }
      ]
    },
    {
      "cell_type": "markdown",
      "source": [
        "If you notice at outputs `torch.Size([1, 3, 3])`\n",
        "\n",
        "The dimensions go outer to inner.\n",
        "\n",
        "That means there's 1 dimension of 3 by 3.\n",
        "\n",
        "![Image](https://raw.githubusercontent.com/mrdbourke/pytorch-deep-learning/main/images/00-pytorch-different-tensor-dimensions.png)"
      ],
      "metadata": {
        "id": "JfjcZH-zASaW"
      }
    },
    {
      "cell_type": "markdown",
      "source": [
        "| Name   | What is it? | Number of dimensions | Lower or upper (usually/example) |\n",
        "|--------|-------------|----------------------|----------------------------------|\n",
        "| Scalar | A single number | 0 | Lower (a) |\n",
        "| Vector | A number with direction (e.g. wind speed with direction) but can also have many other numbers | 1 | Lower (y) |\n",
        "| Matrix | A 2-dimensional array of numbers | 2 | Upper (Q) |\n",
        "| Tensor | An n-dimensional array of numbers (can be any number, a 0-dimension tensor is a scalar, a 1-dimension tensor is a vector) | Any number | Upper (X) |\n",
        "\n",
        "\n",
        "![Image](https://raw.githubusercontent.com/mrdbourke/pytorch-deep-learning/main/images/00-scalar-vector-matrix-tensor.png)"
      ],
      "metadata": {
        "id": "l6iwswYJBEzs"
      }
    },
    {
      "cell_type": "markdown",
      "source": [
        "### Random tensors\n",
        "\n",
        "A machine learning model often starts out with large random tensors of numbers and adjusts these random numbers as it works through data to better represent it.\n",
        "\n",
        "In essence:\n",
        "`Start with random numbers -> look at data -> update random numbers -> look at data -> update random numbers...`\n",
        "\n",
        "As a data scientist,\n",
        "1. Define how machine learning model starts (initialization) \n",
        "2. Look at data (representaion) \n",
        "3. Update (optimization) its random numbers\n"
      ],
      "metadata": {
        "id": "uo72soMqBrTK"
      }
    },
    {
      "cell_type": "code",
      "source": [
        "# Create a random tensor of size (3, 4)\n",
        "random_tensor = torch.rand(size=(3, 4))\n",
        "random_tensor, random_tensor.dtype"
      ],
      "metadata": {
        "colab": {
          "base_uri": "https://localhost:8080/"
        },
        "id": "BbJw24zrAOl0",
        "outputId": "577e8eb1-8527-4cfc-989b-dea1cda34235"
      },
      "execution_count": 5,
      "outputs": [
        {
          "output_type": "execute_result",
          "data": {
            "text/plain": [
              "(tensor([[0.8744, 0.4393, 0.8146, 0.5114],\n",
              "         [0.8554, 0.5395, 0.9400, 0.1999],\n",
              "         [0.1748, 0.8017, 0.0554, 0.2683]]),\n",
              " torch.float32)"
            ]
          },
          "metadata": {},
          "execution_count": 5
        }
      ]
    },
    {
      "cell_type": "markdown",
      "source": [
        "We can adjust the `size` to be whatever we want.\n",
        "\n",
        "Let's crate random tensor int the common image shape of [`224, 224, 3`] ([`height, width, color_channels`])."
      ],
      "metadata": {
        "id": "_C5njhmoDkab"
      }
    },
    {
      "cell_type": "code",
      "source": [
        "# Create a random tensor of size (224, 224, 3)\n",
        "random_image_size_tensor = torch.rand( size=(224, 224, 3) )\n",
        "random_image_size_tensor.shape, random_image_size_tensor.ndim"
      ],
      "metadata": {
        "colab": {
          "base_uri": "https://localhost:8080/"
        },
        "id": "EAJZzf2fDe-1",
        "outputId": "9f8388f2-0849-4ec8-c76e-ddcd7698c3d0"
      },
      "execution_count": 6,
      "outputs": [
        {
          "output_type": "execute_result",
          "data": {
            "text/plain": [
              "(torch.Size([224, 224, 3]), 3)"
            ]
          },
          "metadata": {},
          "execution_count": 6
        }
      ]
    },
    {
      "cell_type": "markdown",
      "source": [
        "### Zeros and ones\n",
        "Sometimes you'll just want to fill tensors with zeros or ones.\n",
        "\n",
        "> This happens a lot with masking (like masking some of the values in one tensor with zeros to let a model know not to learn them)."
      ],
      "metadata": {
        "id": "DnD0N0ZaElNf"
      }
    },
    {
      "cell_type": "code",
      "source": [
        "# Create a tensor of all zeros\n",
        "zeros = torch.zeros(size=(3, 4))\n",
        "zeros, zeros.dtype"
      ],
      "metadata": {
        "colab": {
          "base_uri": "https://localhost:8080/"
        },
        "id": "KF2uTI1JEfgw",
        "outputId": "6261085e-22a7-4566-e55e-5063c83f79e3"
      },
      "execution_count": 7,
      "outputs": [
        {
          "output_type": "execute_result",
          "data": {
            "text/plain": [
              "(tensor([[0., 0., 0., 0.],\n",
              "         [0., 0., 0., 0.],\n",
              "         [0., 0., 0., 0.]]),\n",
              " torch.float32)"
            ]
          },
          "metadata": {},
          "execution_count": 7
        }
      ]
    },
    {
      "cell_type": "code",
      "source": [
        "# Create a tensor of all ones\n",
        "ones = torch.ones(size=(3, 4))\n",
        "ones, ones.dtype"
      ],
      "metadata": {
        "colab": {
          "base_uri": "https://localhost:8080/"
        },
        "id": "RezpwtyaFgr7",
        "outputId": "f0e97106-68ef-490b-88e4-f9b877d2e24e"
      },
      "execution_count": 8,
      "outputs": [
        {
          "output_type": "execute_result",
          "data": {
            "text/plain": [
              "(tensor([[1., 1., 1., 1.],\n",
              "         [1., 1., 1., 1.],\n",
              "         [1., 1., 1., 1.]]),\n",
              " torch.float32)"
            ]
          },
          "metadata": {},
          "execution_count": 8
        }
      ]
    },
    {
      "cell_type": "markdown",
      "source": [
        "### Creating a range and tensors like\n",
        "\n",
        "Sometime, we might want a range of numbers, such as 1 to 10 or 0 to 100.\n",
        "\n",
        "You can use `torch.arange(start, end, step)` to do so."
      ],
      "metadata": {
        "id": "ufG3YCs1GNNU"
      }
    },
    {
      "cell_type": "code",
      "source": [
        "# Create  a range of value 0 to 10\n",
        "zero_to_ten = torch.arange(start=0, end=10, step=1)\n",
        "zero_to_ten"
      ],
      "metadata": {
        "colab": {
          "base_uri": "https://localhost:8080/"
        },
        "id": "3LelcLgGFvmN",
        "outputId": "e474ee4d-1096-48de-cd53-efc693cf1160"
      },
      "execution_count": 9,
      "outputs": [
        {
          "output_type": "execute_result",
          "data": {
            "text/plain": [
              "tensor([0, 1, 2, 3, 4, 5, 6, 7, 8, 9])"
            ]
          },
          "metadata": {},
          "execution_count": 9
        }
      ]
    },
    {
      "cell_type": "markdown",
      "source": [
        "If you want one tensor of a centain type with the same shape as another tensor.\n",
        ">For example, a tensor of all zeros with the same shape as a previous tensor.\n",
        "\n",
        "* torch.zeros_like(input)\n",
        "* torch.ones_like(input)"
      ],
      "metadata": {
        "id": "39d4Z0JSGtOt"
      }
    },
    {
      "cell_type": "code",
      "source": [
        "# Can also create a tensor of zeros similar to another tensor\n",
        "ten_zeros = torch.zeros_like(input=zero_to_ten) # will have some shape\n",
        "ten_zeros"
      ],
      "metadata": {
        "colab": {
          "base_uri": "https://localhost:8080/"
        },
        "id": "SL1YJkfdGLuF",
        "outputId": "255a87d9-bcaa-4781-a3ef-03afa103d0f9"
      },
      "execution_count": 10,
      "outputs": [
        {
          "output_type": "execute_result",
          "data": {
            "text/plain": [
              "tensor([0, 0, 0, 0, 0, 0, 0, 0, 0, 0])"
            ]
          },
          "metadata": {},
          "execution_count": 10
        }
      ]
    },
    {
      "cell_type": "code",
      "source": [],
      "metadata": {
        "id": "JgZTOs-3HYjZ"
      },
      "execution_count": null,
      "outputs": []
    }
  ]
}